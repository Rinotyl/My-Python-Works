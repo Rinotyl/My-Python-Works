{
 "cells": [
  {
   "cell_type": "code",
   "execution_count": 3,
   "id": "5ab71c0a",
   "metadata": {},
   "outputs": [
    {
     "name": "stdout",
     "output_type": "stream",
     "text": [
      "Nombre: Guillermo\n",
      "Sexo: HOmbre\n",
      "Edad: 20\n",
      "Email: rino@gmail.com\n",
      "Ocupacion: estudiante\n"
     ]
    }
   ],
   "source": [
    "Info = [Nom, Sex, Age, Mail, Job]\n",
    "Nom = input('Nombre: ')\n",
    "Sex = input('Sexo: ')\n",
    "Age = input('Edad: ')\n",
    "Mail = input('Email: ')\n",
    "Job = input('Ocupacion: ')"
   ]
  },
  {
   "cell_type": "code",
   "execution_count": 4,
   "id": "90503566",
   "metadata": {},
   "outputs": [
    {
     "data": {
      "text/plain": [
       "5"
      ]
     },
     "execution_count": 4,
     "metadata": {},
     "output_type": "execute_result"
    }
   ],
   "source": [
    "#longuitud de la lista\n",
    "len(Info)"
   ]
  },
  {
   "cell_type": "code",
   "execution_count": 12,
   "id": "3d20d6f2",
   "metadata": {},
   "outputs": [
    {
     "data": {
      "text/plain": [
       "'Estudiante'"
      ]
     },
     "execution_count": 12,
     "metadata": {},
     "output_type": "execute_result"
    }
   ],
   "source": [
    "#Informacion del contenido de la lista\n",
    "Info[4]"
   ]
  },
  {
   "cell_type": "code",
   "execution_count": 9,
   "id": "8a42035d",
   "metadata": {},
   "outputs": [
    {
     "name": "stdout",
     "output_type": "stream",
     "text": [
      "Ponga porfavor su Salario Mensual: 30000\n"
     ]
    }
   ],
   "source": [
    "#Trabajo 4\n",
    "\t#Salarios Semanal, Mensual Y Anual\n",
    "Sm  = input('Ponga porfavor su Salario Mensual: ')"
   ]
  },
  {
   "cell_type": "code",
   "execution_count": 10,
   "id": "6dedfb3a",
   "metadata": {},
   "outputs": [
    {
     "name": "stdout",
     "output_type": "stream",
     "text": [
      "Tu Salario Semanal es: $ 7500.0\n",
      "Tu Salario Anual es: $ 360000\n"
     ]
    }
   ],
   "source": [
    "SS = int (Sm) / 4\n",
    "SA = int (Sm) * 12\n",
    "print(f'Tu Salario Semanal es: $ {SS}')\n",
    "print(f'Tu Salario Anual es: $ {SA}')"
   ]
  },
  {
   "cell_type": "code",
   "execution_count": 15,
   "id": "9199f6b5",
   "metadata": {},
   "outputs": [
    {
     "name": "stdout",
     "output_type": "stream",
     "text": [
      "Ponga porfavor su capital del prestamo: 200\n",
      "Ponga porfavor su tasa de interes anual: .08\n",
      "Ponga porfavor su tiempo en años del prestamo: 6\n",
      "El interes ah pagar anualmente es : $ 96.0\n",
      "El interes ah pagar mensualmente es : $ 8.0\n"
     ]
    }
   ],
   "source": [
    "#Trabajo 5\n",
    "    #Prestamo Simple anual\n",
    "p=input('Ponga porfavor su capital del prestamo: ')#Capital\n",
    "r=input('Ponga porfavor su tasa de interes anual: ')#Tasa de interes anual\n",
    "t=input('Ponga porfavor su tiempo en años del prestamo: ')#Tiempo en años \n",
    "I= int(p) * float(r) * int(t) #I= Interes ganado\n",
    "MI= int(I) / 12\n",
    "print(f'El interes ah pagar anualmente es : $ {I}')\n",
    "print(f'El interes ah pagar mensualmente es : $ {MI}')"
   ]
  },
  {
   "cell_type": "code",
   "execution_count": null,
   "id": "a0a1ba0d",
   "metadata": {},
   "outputs": [],
   "source": []
  }
 ],
 "metadata": {
  "kernelspec": {
   "display_name": "Python 3 (ipykernel)",
   "language": "python",
   "name": "python3"
  },
  "language_info": {
   "codemirror_mode": {
    "name": "ipython",
    "version": 3
   },
   "file_extension": ".py",
   "mimetype": "text/x-python",
   "name": "python",
   "nbconvert_exporter": "python",
   "pygments_lexer": "ipython3",
   "version": "3.11.2"
  }
 },
 "nbformat": 4,
 "nbformat_minor": 5
}
