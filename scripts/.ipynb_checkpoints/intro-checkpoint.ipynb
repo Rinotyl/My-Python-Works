{
 "cells": [
  {
   "cell_type": "code",
   "execution_count": 3,
   "id": "5ab71c0a",
   "metadata": {},
   "outputs": [
    {
     "name": "stdout",
     "output_type": "stream",
     "text": [
      "Nombre: Guillermo\n",
      "Sexo: HOmbre\n",
      "Edad: 20\n",
      "Email: rino@gmail.com\n",
      "Ocupacion: estudiante\n"
     ]
    }
   ],
   "source": [
    "Info = [Nom, Sex, Age, Mail, Job]\n",
    "Nom = input('Nombre: ')\n",
    "Sex = input('Sexo: ')\n",
    "Age = input('Edad: ')\n",
    "Mail = input('Email: ')\n",
    "Job = input('Ocupacion: ')"
   ]
  },
  {
   "cell_type": "code",
   "execution_count": 4,
   "id": "90503566",
   "metadata": {},
   "outputs": [
    {
     "data": {
      "text/plain": [
       "5"
      ]
     },
     "execution_count": 4,
     "metadata": {},
     "output_type": "execute_result"
    }
   ],
   "source": [
    "#longuitud de la lista\n",
    "len(Info)"
   ]
  },
  {
   "cell_type": "code",
   "execution_count": 12,
   "id": "3d20d6f2",
   "metadata": {},
   "outputs": [
    {
     "data": {
      "text/plain": [
       "'Estudiante'"
      ]
     },
     "execution_count": 12,
     "metadata": {},
     "output_type": "execute_result"
    }
   ],
   "source": [
    "#Informacion del contenido de la lista\n",
    "Info[4]"
   ]
  },
  {
   "cell_type": "code",
   "execution_count": 6,
   "id": "8a42035d",
   "metadata": {},
   "outputs": [
    {
     "name": "stdout",
     "output_type": "stream",
     "text": [
      "Ponga porfavor su Salario Mensual: 12000\n"
     ]
    }
   ],
   "source": [
    "#Trabajo 4\n",
    "\t#Salarios Semanal, Mensual Y Anual\n",
    "SM = input('Ponga porfavor su Salario Mensual: ')"
   ]
  },
  {
   "cell_type": "code",
   "execution_count": 4,
   "id": "6dedfb3a",
   "metadata": {},
   "outputs": [
    {
     "ename": "NameError",
     "evalue": "name 'SM' is not defined",
     "output_type": "error",
     "traceback": [
      "\u001b[1;31m---------------------------------------------------------------------------\u001b[0m",
      "\u001b[1;31mNameError\u001b[0m                                 Traceback (most recent call last)",
      "Cell \u001b[1;32mIn[4], line 1\u001b[0m\n\u001b[1;32m----> 1\u001b[0m SS \u001b[38;5;241m=\u001b[39m \u001b[43mSM\u001b[49m \u001b[38;5;241m/\u001b[39m \u001b[38;5;241m4\u001b[39m\n\u001b[0;32m      2\u001b[0m SA \u001b[38;5;241m=\u001b[39m \u001b[38;5;28mint\u001b[39m (SM) \u001b[38;5;241m*\u001b[39m \u001b[38;5;241m12\u001b[39m\n\u001b[0;32m      3\u001b[0m \u001b[38;5;28mprint\u001b[39m(\u001b[38;5;124mf\u001b[39m\u001b[38;5;124m'\u001b[39m\u001b[38;5;124mTu Salario Semanal es: $ \u001b[39m\u001b[38;5;132;01m{\u001b[39;00mSS\u001b[38;5;132;01m}\u001b[39;00m\u001b[38;5;124m'\u001b[39m)\n",
      "\u001b[1;31mNameError\u001b[0m: name 'SM' is not defined"
     ]
    }
   ],
   "source": [
    "SS = int SM / 4\n",
    "SA = int (SM) * 12\n",
    "print(f'Tu Salario Semanal es: $ {SS}')\n",
    "print(f'Tu Salario Anual es: $ {SA}')"
   ]
  },
  {
   "cell_type": "code",
   "execution_count": null,
   "id": "9199f6b5",
   "metadata": {},
   "outputs": [],
   "source": []
  }
 ],
 "metadata": {
  "kernelspec": {
   "display_name": "Python 3 (ipykernel)",
   "language": "python",
   "name": "python3"
  },
  "language_info": {
   "codemirror_mode": {
    "name": "ipython",
    "version": 3
   },
   "file_extension": ".py",
   "mimetype": "text/x-python",
   "name": "python",
   "nbconvert_exporter": "python",
   "pygments_lexer": "ipython3",
   "version": "3.11.2"
  }
 },
 "nbformat": 4,
 "nbformat_minor": 5
}
